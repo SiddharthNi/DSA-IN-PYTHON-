{
 "cells": [
  {
   "cell_type": "markdown",
   "id": "ed3d9287",
   "metadata": {},
   "source": [
    "## What is Big O Notation?"
   ]
  },
  {
   "cell_type": "markdown",
   "id": "90fa4b75",
   "metadata": {},
   "source": [
    "When resolving a computer-related problem, there will frequently be more than just one solution. These individual solutions will\n",
    "\n",
    "often be in the shape of different algorithms or instructions having different logic, and you will normally want to compare the\n",
    "\n",
    "algorithms to see which one is more proficient. So, this is where Big O analysis helps program developers to give programmers\n",
    "\n",
    "some basis for computing and measuring the efficiency of a specific algorithm.\n",
    "\n",
    "If f(n) represents the computing time of some algorithm and g(n) represents a known standard function like n, n2, n log n, then to write:\n",
    "\n",
    "f(n) is O g(n)\n",
    "\n",
    "which means that f(n) of n equals to the biggest order of the function, i.e., the g(n)"
   ]
  },
  {
   "cell_type": "markdown",
   "id": "bd52e07e",
   "metadata": {},
   "source": [
    "So what Big - O does? It helps to determine the time as well as space complexity of the algorithm. Using Big - O notation, the \n",
    "\n",
    "time taken by the algorithm and the space required to run the algorithm can be ascertained. Some of the lists of common \n",
    "\n",
    "computing times of algorithms in order of performance are as follows:\n",
    "\n",
    "O (1)\n",
    "\n",
    "O (log n)\n",
    "\n",
    "O (n)\n",
    "\n",
    "O (nlog n)\n",
    "\n",
    "O (n2)\n",
    "\n",
    "O (n3)\n",
    "\n",
    "O (2n)\n",
    "\n",
    "Thus algorithm with their computational complexity can be rated as per the mentioned order of performance."
   ]
  },
  {
   "cell_type": "markdown",
   "id": "9b21a540",
   "metadata": {},
   "source": [
    "## Algorithm analysis\n"
   ]
  },
  {
   "cell_type": "markdown",
   "id": "ce1d972e",
   "metadata": {},
   "source": [
    "Consequently, analysis of algorithms focuses on the computation of space and time complexity. Here are various types of time complexities which can be analyzed for the algorithm:\n",
    "\n",
    "Best case time complexity: The best case time complexity of an algorithm is a measure of the minimum time that the algorithm\n",
    "\n",
    "will require for an input of size 'n.' The running time of many algorithms varies not only for the inputs of different sizes but\n",
    "\n",
    "also for the different inputs of the same size.\n",
    "\n",
    "Worst case time Complexity: The worst case time complexity of an algorithm is a measure of the minimum time that the algorithm\n",
    "\n",
    "will require for an input of size 'n.' Therefore, if various algorithms for sorting are taken into account and say 'n,' input\n",
    "\n",
    "data items are supplied in reverse order for a sorting algorithm, then the algorithm will require n2 operations to perform the\n",
    "\n",
    "sort which will correspond to the worst case time complexity of the algorithm.\n",
    "\n",
    "Average Time complexity Algorithm: This is the time that the algorithm will require to execute a typical input data of size 'n' \n",
    "\n",
    "is known as the average case time complexity.\n"
   ]
  }
 ],
 "metadata": {
  "kernelspec": {
   "display_name": "Python 3 (ipykernel)",
   "language": "python",
   "name": "python3"
  },
  "language_info": {
   "codemirror_mode": {
    "name": "ipython",
    "version": 3
   },
   "file_extension": ".py",
   "mimetype": "text/x-python",
   "name": "python",
   "nbconvert_exporter": "python",
   "pygments_lexer": "ipython3",
   "version": "3.11.3"
  }
 },
 "nbformat": 4,
 "nbformat_minor": 5
}
