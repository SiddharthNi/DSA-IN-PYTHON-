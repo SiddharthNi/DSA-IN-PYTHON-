{
 "cells": [
  {
   "cell_type": "markdown",
   "id": "c06caccc",
   "metadata": {},
   "source": [
    "## What is Linked List in Python\n",
    "\n",
    "A linked list is a type of linear data structure similar to arrays. It is a collection of nodes that are linked with each other.\n",
    "\n",
    "A node contains two things first is data and second is a link that connects it with another node. Below is an example of a \n",
    "\n",
    "linked list with four nodes and each node contains character data and a link to another node. Our first node is where head \n",
    "\n",
    "points and we can access all the elements of the linked list using the head."
   ]
  }
 ],
 "metadata": {
  "kernelspec": {
   "display_name": "Python 3 (ipykernel)",
   "language": "python",
   "name": "python3"
  },
  "language_info": {
   "codemirror_mode": {
    "name": "ipython",
    "version": 3
   },
   "file_extension": ".py",
   "mimetype": "text/x-python",
   "name": "python",
   "nbconvert_exporter": "python",
   "pygments_lexer": "ipython3",
   "version": "3.11.3"
  }
 },
 "nbformat": 4,
 "nbformat_minor": 5
}
