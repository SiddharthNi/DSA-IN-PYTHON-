{
 "cells": [
  {
   "cell_type": "code",
   "execution_count": 1,
   "id": "088fd65f",
   "metadata": {},
   "outputs": [
    {
     "name": "stdout",
     "output_type": "stream",
     "text": [
      "[0, 1]\n"
     ]
    }
   ],
   "source": [
    "def two_sum_brute_force(nums, target):\n",
    "    for i in range(len(nums)):\n",
    "        for j in range(i + 1, len(nums)):\n",
    "            if nums[i] + nums[j] == target:\n",
    "                return [i, j]\n",
    "\n",
    "nums = [2, 7, 11, 15]\n",
    "target = 9\n",
    "print(two_sum_brute_force(nums, target)) "
   ]
  },
  {
   "cell_type": "markdown",
   "id": "b95e8304",
   "metadata": {},
   "source": [
    "time complexity big o(n^2) because of the nested loops."
   ]
  },
  {
   "cell_type": "code",
   "execution_count": 3,
   "id": "1a306666",
   "metadata": {},
   "outputs": [
    {
     "name": "stdout",
     "output_type": "stream",
     "text": [
      "[0, 1]\n"
     ]
    }
   ],
   "source": [
    "def two_sum_hash_map(nums, target):\n",
    "    num_map = {}\n",
    "    for i, num in enumerate(nums):\n",
    "        complement = target - num\n",
    "        if complement in num_map:\n",
    "            return [num_map[complement], i]\n",
    "        num_map[num] = i\n",
    "\n",
    "nums = [2, 7, 11, 15]\n",
    "target = 9\n",
    "print(two_sum_hash_map(nums, target))  # Output: [0, 1]\n"
   ]
  },
  {
   "cell_type": "markdown",
   "id": "9fb767a9",
   "metadata": {},
   "source": [
    "time complexity big O(n)"
   ]
  },
  {
   "cell_type": "code",
   "execution_count": 4,
   "id": "cf438f1f",
   "metadata": {},
   "outputs": [
    {
     "name": "stdout",
     "output_type": "stream",
     "text": [
      "0\n"
     ]
    }
   ],
   "source": [
    "def first_unique_char_brute_force(s):\n",
    "    for i in range(len(s)):\n",
    "        if s.count(s[i]) == 1:\n",
    "            return i\n",
    "    return -1\n",
    "\n",
    "s = \"leetcode\"\n",
    "print(first_unique_char_brute_force(s))  # Output: 0\n"
   ]
  },
  {
   "cell_type": "markdown",
   "id": "eecc31f1",
   "metadata": {},
   "source": [
    "Big 𝑂(𝑛^2)"
   ]
  }
 ],
 "metadata": {
  "kernelspec": {
   "display_name": "Python 3 (ipykernel)",
   "language": "python",
   "name": "python3"
  },
  "language_info": {
   "codemirror_mode": {
    "name": "ipython",
    "version": 3
   },
   "file_extension": ".py",
   "mimetype": "text/x-python",
   "name": "python",
   "nbconvert_exporter": "python",
   "pygments_lexer": "ipython3",
   "version": "3.11.3"
  }
 },
 "nbformat": 4,
 "nbformat_minor": 5
}
